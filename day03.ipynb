{
 "cells": [
  {
   "cell_type": "code",
   "execution_count": 1,
   "metadata": {},
   "outputs": [],
   "source": [
    "from collections import Counter\n",
    "\n",
    "\n",
    "lines = [l for l in open('inputs/day03.txt')][0]\n",
    "# lines = '^v^v^v^v^v'"
   ]
  },
  {
   "cell_type": "code",
   "execution_count": 2,
   "metadata": {},
   "outputs": [],
   "source": [
    "directiondict = {\n",
    "    'v': (0, 1), \n",
    "    '>': (1,0), \n",
    "    '<': (-1, 0),\n",
    "    '^': (0,-1),\n",
    "}"
   ]
  },
  {
   "cell_type": "code",
   "execution_count": 3,
   "metadata": {},
   "outputs": [
    {
     "name": "stdout",
     "output_type": "stream",
     "text": [
      "part 1: 2572\n"
     ]
    }
   ],
   "source": [
    "pos = (0,0)\n",
    "visited = Counter()\n",
    "visited[pos] = 1\n",
    "for val in lines:\n",
    "    dx, dy = directiondict[val]\n",
    "    pos = (pos[0]+dx, pos[1]+dy)\n",
    "    visited[pos] += 1\n",
    "print('part 1:', len(visited.keys()))"
   ]
  },
  {
   "cell_type": "code",
   "execution_count": 4,
   "metadata": {},
   "outputs": [],
   "source": [
    "visited = Counter()\n",
    "\n",
    "\n",
    "pos = (0,0)\n",
    "visited[pos] = 1\n",
    "for index in range(0,len(lines), 2):\n",
    "    val = lines[index]\n",
    "    dx, dy = directiondict[val]\n",
    "    pos = (pos[0]+dx, pos[1]+dy)\n",
    "    visited[pos] += 1\n",
    "    \n",
    "pos = (0,0)\n",
    "visited[pos] = 1\n",
    "for index in range(1,len(lines), 2):\n",
    "    val = lines[index]\n",
    "    dx, dy = directiondict[val]\n",
    "    pos = (pos[0]+dx, pos[1]+dy)\n",
    "    visited[pos] += 1"
   ]
  },
  {
   "cell_type": "code",
   "execution_count": 5,
   "metadata": {},
   "outputs": [
    {
     "name": "stdout",
     "output_type": "stream",
     "text": [
      "part 2: 2631\n"
     ]
    }
   ],
   "source": [
    "print('part 2:', len(visited.keys()))"
   ]
  },
  {
   "cell_type": "code",
   "execution_count": null,
   "metadata": {},
   "outputs": [],
   "source": []
  }
 ],
 "metadata": {
  "kernelspec": {
   "display_name": "py39",
   "language": "python",
   "name": "py39"
  },
  "language_info": {
   "codemirror_mode": {
    "name": "ipython",
    "version": 3
   },
   "file_extension": ".py",
   "mimetype": "text/x-python",
   "name": "python",
   "nbconvert_exporter": "python",
   "pygments_lexer": "ipython3",
   "version": "3.9.1"
  }
 },
 "nbformat": 4,
 "nbformat_minor": 4
}
