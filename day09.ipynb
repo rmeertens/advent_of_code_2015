{
 "cells": [
  {
   "cell_type": "code",
   "execution_count": 1,
   "metadata": {},
   "outputs": [],
   "source": [
    "lines = [l.strip() for l in open('inputs/day09.txt')]"
   ]
  },
  {
   "cell_type": "code",
   "execution_count": 2,
   "metadata": {},
   "outputs": [],
   "source": [
    "from collections import defaultdict\n",
    "import operator\n",
    "\n",
    "def default():\n",
    "    return defaultdict(int)\n",
    "distances = defaultdict(default)\n",
    "for line in lines: \n",
    "    source, _, destination, _ , distance = line.split(\" \")\n",
    "    distances[source][destination] = int(distance)\n",
    "    distances[destination][source] = int(distance)"
   ]
  },
  {
   "cell_type": "code",
   "execution_count": 3,
   "metadata": {},
   "outputs": [
    {
     "name": "stdout",
     "output_type": "stream",
     "text": [
      "Part 1,  [117]\n",
      "Part 2,  [909]\n"
     ]
    }
   ],
   "source": [
    "def cost_trip(history):\n",
    "    total_cost = 0\n",
    "    for i in range(len(history)-1):\n",
    "        total_cost += distances[history[i]][history[i+1]]\n",
    "    return total_cost\n",
    "\n",
    "\n",
    "def depth_first_search(history, op):\n",
    "    visited_all_locations = True\n",
    "    for next_location in distances.keys():\n",
    "        if next_location not in history: \n",
    "            new_history = list(history)\n",
    "            new_history.append(next_location)\n",
    "            depth_first_search(new_history, op)\n",
    "            visited_all_locations = False\n",
    "    if visited_all_locations: \n",
    "        cost = cost_trip(history)\n",
    "        if op(cost,best_so_far[0]):\n",
    "            best_so_far[0] = cost\n",
    "\n",
    "best_so_far = [100000000000] # sneaky hack to make a global variable\n",
    "depth_first_search([], operator.lt)\n",
    "print(\"Part 1, \", best_so_far)\n",
    "\n",
    "best_so_far = [0] # sneaky hack to make a global variable\n",
    "depth_first_search([], operator.gt)\n",
    "print(\"Part 2, \", best_so_far)"
   ]
  }
 ],
 "metadata": {
  "kernelspec": {
   "display_name": "py39",
   "language": "python",
   "name": "py39"
  },
  "language_info": {
   "codemirror_mode": {
    "name": "ipython",
    "version": 3
   },
   "file_extension": ".py",
   "mimetype": "text/x-python",
   "name": "python",
   "nbconvert_exporter": "python",
   "pygments_lexer": "ipython3",
   "version": "3.9.1"
  }
 },
 "nbformat": 4,
 "nbformat_minor": 4
}
