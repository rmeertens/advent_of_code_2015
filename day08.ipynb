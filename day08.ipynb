{
 "cells": [
  {
   "cell_type": "code",
   "execution_count": 1,
   "metadata": {},
   "outputs": [
    {
     "name": "stdout",
     "output_type": "stream",
     "text": [
      "Part 1: 1333\n",
      "Part 2: 2046\n"
     ]
    }
   ],
   "source": [
    "def process_line(line):\n",
    "    return eval(line)\n",
    "\n",
    "def count_encode(line):\n",
    "    num_chars = 2 # start with \"\"\n",
    "    for char in line: \n",
    "        if char == '\"':\n",
    "            num_chars += 2 # \\\"\n",
    "        elif char == '\\\\':\n",
    "            num_chars += 2\n",
    "        else:\n",
    "            num_chars += 1\n",
    "    return num_chars\n",
    "\n",
    "total_chars = 0\n",
    "escaped_chars = 0\n",
    "encoded_chars = 0\n",
    "for line in open('inputs/day08.txt'):\n",
    "# for line in ['\"\"', '\"abc\"', '\"aaa\\\\\"aaa\"', '\"\\\\x27\"']:\n",
    "    line = line.strip()\n",
    "    total_chars += len(line)\n",
    "    escaped_chars += len(process_line(line))\n",
    "    encoded_chars += count_encode(line)\n",
    "    \n",
    "print(\"Part 1:\", total_chars - escaped_chars)\n",
    "print(\"Part 2:\", encoded_chars - total_chars)\n"
   ]
  }
 ],
 "metadata": {
  "kernelspec": {
   "display_name": "py39",
   "language": "python",
   "name": "py39"
  },
  "language_info": {
   "codemirror_mode": {
    "name": "ipython",
    "version": 3
   },
   "file_extension": ".py",
   "mimetype": "text/x-python",
   "name": "python",
   "nbconvert_exporter": "python",
   "pygments_lexer": "ipython3",
   "version": "3.9.1"
  }
 },
 "nbformat": 4,
 "nbformat_minor": 4
}
