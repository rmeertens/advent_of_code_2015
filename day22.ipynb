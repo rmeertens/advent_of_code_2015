{
 "cells": [
  {
   "cell_type": "code",
   "execution_count": 1,
   "metadata": {},
   "outputs": [],
   "source": []
  },
  {
   "cell_type": "code",
   "execution_count": null,
   "metadata": {},
   "outputs": [],
   "source": []
  },
  {
   "cell_type": "code",
   "execution_count": null,
   "metadata": {},
   "outputs": [],
   "source": []
  },
  {
   "cell_type": "code",
   "execution_count": 3,
   "metadata": {
    "scrolled": true
   },
   "outputs": [
    {
     "name": "stdout",
     "output_type": "stream",
     "text": [
      "part 1: 78\n",
      "part 2: 148\n"
     ]
    }
   ],
   "source": [
    "def get_winner(you, boss): # (health, damage, armor)\n",
    "    # you = (8,5,5), boss = (12,7, 2)\n",
    "    your_damage = max(1,you[1] - boss[2])\n",
    "    boss_damage = max(1,boss[1] - you[2])\n",
    "    \n",
    "    while True:         \n",
    "        boss = (boss[0] - your_damage, boss[1], boss[2])\n",
    "        you = (you[0] - boss_damage, you[1], you[2])\n",
    "\n",
    "        if boss[0] <= 0:\n",
    "\n",
    "            return 'you'\n",
    "        elif you[0] <= 0: \n",
    "            return 'boss'\n",
    "\n",
    "def get_outcomes():         \n",
    "    results = list()        \n",
    "    for weapon in new_weapons: \n",
    "        for armor in new_armor: \n",
    "            for ring1 in new_rings: \n",
    "                for ring2 in new_rings: \n",
    "                    my_damage = weapon[2] + armor[2] + ring1[2] + ring2[2]\n",
    "                    my_armor = weapon[3] + armor[3] + ring1[3] + ring2[3]\n",
    "                    my_cost = weapon[1] + armor[1] + ring1[1] + ring2[1]\n",
    "\n",
    "                    me = (100, my_damage, my_armor)        \n",
    "                    boss = (104, 8, 1)   # health, damage, armor\n",
    "\n",
    "                    results.append((get_winner(me, boss), my_cost))\n",
    "    return results\n",
    "results = get_outcomes()                    \n",
    "print('part 1:', min([x[1] for x in results if x[0] == 'you']))\n",
    "print('part 2:', max([x[1] for x in results if x[0] == 'boss']))"
   ]
  },
  {
   "cell_type": "code",
   "execution_count": null,
   "metadata": {},
   "outputs": [],
   "source": []
  },
  {
   "cell_type": "code",
   "execution_count": 31,
   "metadata": {},
   "outputs": [],
   "source": [
    "from collections import namedtuple\n",
    "from types import SimpleNamespace\n",
    "import copy\n",
    "# Effect = namedtuple(\"Effect\", \"name turnsleft\")\n",
    "# Player = namedtuple(\"Player\", \"hitpoint damage armor mana effects\")\n"
   ]
  },
  {
   "cell_type": "code",
   "execution_count": null,
   "metadata": {},
   "outputs": [],
   "source": [
    "\n"
   ]
  },
  {
   "cell_type": "code",
   "execution_count": 52,
   "metadata": {},
   "outputs": [
    {
     "name": "stdout",
     "output_type": "stream",
     "text": [
      "Player wins 1937 lowest spent: 1937\n",
      "Player wins 1957 lowest spent: 1937\n",
      "Player wins 1957 lowest spent: 1937\n"
     ]
    }
   ],
   "source": [
    "mana_cost = {\n",
    "    \"magicmissile\": 53, \n",
    "    \"drain\": 73, \n",
    "    \"shield\": 113, \n",
    "    \"poison\": 173, \n",
    "    \"recharge\": 229\n",
    "}\n",
    "you = SimpleNamespace(hitpoint=50, damage=0, armor=0, mana=500, effects=[])\n",
    "boss = SimpleNamespace(hitpoint=71, damage=10, armor=0, mana=0, effects=[])\n",
    "\n",
    "expand_stack = [(you, boss, 0, True)]\n",
    "# State is the player and the boss battling it out, the total amount of mana spent, and whether it is your turn\n",
    "\n",
    "hard_mode = True\n",
    "\n",
    "lowest_spent = 9999999999\n",
    "while expand_stack: \n",
    "#     print(len(expand_stack), expand_stack[0])\n",
    "    player, boss, total_spent, your_turn = expand_stack.pop(0)\n",
    "    \n",
    "    boss_attack = boss.damage\n",
    "    player_defense = player.armor\n",
    "\n",
    "    for effect in player.effects: \n",
    "        if effect.name == \"shield\":\n",
    "            player_defense += 7\n",
    "        if effect.name == \"recharge\":\n",
    "            player.mana += 101\n",
    "\n",
    "    for effect in boss.effects: \n",
    "        if effect.name == \"poison\":\n",
    "            boss.hitpoint -= 3\n",
    "\n",
    "    if hard_mode and your_turn: \n",
    "        player.hitpoint -= 1\n",
    "        \n",
    "    if boss.hitpoint <= 0: \n",
    "        lowest_spent = min(lowest_spent, total_spent)\n",
    "        print(\"Player wins\", total_spent, \"lowest spent:\", lowest_spent)\n",
    "        continue\n",
    "    elif player.hitpoint <= 0: \n",
    "        continue\n",
    "        \n",
    "    # Reduce the turns left per player\n",
    "    for effect in player.effects: \n",
    "        effect.turnsleft -= 1\n",
    "    for effect in boss.effects: \n",
    "        effect.turnsleft -= 1\n",
    "\n",
    "    boss.effects = [effect for effect in boss.effects if effect.turnsleft > 0]\n",
    "    player.effects = [effect for effect in player.effects if effect.turnsleft > 0]\n",
    "    \n",
    "    \n",
    "    if your_turn: \n",
    "        for spell in [\"magicmissile\", \"drain\", \"shield\", \"poison\", \"recharge\"]:\n",
    "            if player.mana < mana_cost[spell]:\n",
    "                continue\n",
    "                \n",
    "                    \n",
    "            # Here we expand our option tree! \n",
    "            new_player, new_boss = copy.deepcopy(player), copy.deepcopy(boss)\n",
    "            new_player.mana -= mana_cost[spell]\n",
    "            \n",
    "            if spell == 'magicmissile':\n",
    "                new_boss.hitpoint -= 4\n",
    "            elif spell == 'drain': \n",
    "                new_boss.hitpoint -= 2\n",
    "                new_player.hitpoint += 2\n",
    "            elif spell == 'shield': \n",
    "                new_player.effects.append(SimpleNamespace(name=spell, turnsleft=6))\n",
    "            elif spell == 'poison': \n",
    "                new_boss.effects.append(SimpleNamespace(name=spell, turnsleft=6))\n",
    "            elif spell == 'recharge': \n",
    "                new_player.effects.append(SimpleNamespace(name=spell, turnsleft=5))\n",
    "            else:\n",
    "                print('error\"')\n",
    "                \n",
    "            player_effect_names = [e.name for e in new_player.effects]\n",
    "            boss_effect_names = [e.name for e in new_boss.effects]\n",
    "            if len(set(player_effect_names)) == len(player_effect_names) and len(set(boss_effect_names)) == len(boss_effect_names):\n",
    "                expand_stack.append((new_player, new_boss, total_spent + mana_cost[spell], False))\n",
    "    else: \n",
    "        damage = max(1, boss_attack - player_defense)\n",
    "        player.hitpoint -= damage\n",
    "        expand_stack.append((player, boss, total_spent, True))\n"
   ]
  },
  {
   "cell_type": "code",
   "execution_count": null,
   "metadata": {},
   "outputs": [],
   "source": []
  },
  {
   "cell_type": "code",
   "execution_count": null,
   "metadata": {},
   "outputs": [],
   "source": []
  }
 ],
 "metadata": {
  "kernelspec": {
   "display_name": "Python 3",
   "language": "python",
   "name": "python3"
  },
  "language_info": {
   "codemirror_mode": {
    "name": "ipython",
    "version": 3
   },
   "file_extension": ".py",
   "mimetype": "text/x-python",
   "name": "python",
   "nbconvert_exporter": "python",
   "pygments_lexer": "ipython3",
   "version": "3.8.5"
  }
 },
 "nbformat": 4,
 "nbformat_minor": 4
}
