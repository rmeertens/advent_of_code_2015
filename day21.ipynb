{
 "cells": [
  {
   "cell_type": "code",
   "execution_count": 1,
   "metadata": {},
   "outputs": [],
   "source": [
    "weapons = \"\"\"Dagger        8     4       0\n",
    "Shortsword   10     5       0\n",
    "Warhammer    25     6       0\n",
    "Longsword    40     7       0\n",
    "Greataxe     74     8       0\"\"\"\n",
    "\n",
    "armor = \"\"\"Leather      13     0       1\n",
    "Chainmail    31     0       2\n",
    "Splintmail   53     0       3\n",
    "Bandedmail   75     0       4\n",
    "Platemail   102     0       5\"\"\"\n",
    "\n",
    "rings = \"\"\"Damage+1    25     1       0\n",
    "Damage+2    50     2       0\n",
    "Damage+3   100     3       0\n",
    "Defense+1   20     0       1\n",
    "Defense+2   40     0       2\n",
    "Defense+3   80     0       3\"\"\""
   ]
  },
  {
   "cell_type": "code",
   "execution_count": 2,
   "metadata": {},
   "outputs": [],
   "source": [
    "def parse_string_items(string): \n",
    "    new_items = list()\n",
    "    for w in string.split('\\n'):\n",
    "        name, price, damage, armor = [x for x in filter(lambda y: len(y) > 0, w.split(' '))]\n",
    "        price, damage, armor = int(price), int(damage), int(armor)\n",
    "        new_items.append((name, price, damage, armor))\n",
    "    return new_items\n",
    "    \n",
    "new_weapons = parse_string_items(weapons)\n",
    "\n",
    "new_armor = parse_string_items(armor)\n",
    "new_armor.append((\"Nothing\", 0, 0, 0))\n",
    "\n",
    "new_rings = parse_string_items(rings)\n",
    "new_rings.append((\"Nothing1\", 0, 0, 0))\n",
    "new_rings.append((\"Nothing2\", 0, 0, 0))\n"
   ]
  },
  {
   "cell_type": "code",
   "execution_count": null,
   "metadata": {},
   "outputs": [],
   "source": []
  },
  {
   "cell_type": "code",
   "execution_count": 3,
   "metadata": {},
   "outputs": [
    {
     "name": "stdout",
     "output_type": "stream",
     "text": [
      "part 1: 78\n",
      "part 2: 148\n"
     ]
    }
   ],
   "source": [
    "def get_winner(you, boss): # (health, damage, armor)\n",
    "    # you = (8,5,5), boss = (12,7, 2)\n",
    "    your_damage = max(1,you[1] - boss[2])\n",
    "    boss_damage = max(1,boss[1] - you[2])\n",
    "    \n",
    "    while True:         \n",
    "        boss = (boss[0] - your_damage, boss[1], boss[2])\n",
    "        you = (you[0] - boss_damage, you[1], you[2])\n",
    "\n",
    "        if boss[0] <= 0:\n",
    "\n",
    "            return 'you'\n",
    "        elif you[0] <= 0: \n",
    "            return 'boss'\n",
    "\n",
    "def get_outcomes():         \n",
    "    results = list()        \n",
    "    for weapon in new_weapons: \n",
    "        for armor in new_armor: \n",
    "            for ring1 in new_rings: \n",
    "                for ring2 in new_rings: \n",
    "                    my_damage = weapon[2] + armor[2] + ring1[2] + ring2[2]\n",
    "                    my_armor = weapon[3] + armor[3] + ring1[3] + ring2[3]\n",
    "                    my_cost = weapon[1] + armor[1] + ring1[1] + ring2[1]\n",
    "\n",
    "                    me = (100, my_damage, my_armor)        \n",
    "                    boss = (104, 8, 1)   # health, damage, armor\n",
    "\n",
    "                    results.append((get_winner(me, boss), my_cost))\n",
    "    return results\n",
    "results = get_outcomes()                    \n",
    "print('part 1:', min([x[1] for x in results if x[0] == 'you']))\n",
    "print('part 2:', max([x[1] for x in results if x[0] == 'boss']))"
   ]
  },
  {
   "cell_type": "code",
   "execution_count": null,
   "metadata": {},
   "outputs": [],
   "source": []
  },
  {
   "cell_type": "code",
   "execution_count": null,
   "metadata": {},
   "outputs": [],
   "source": []
  },
  {
   "cell_type": "code",
   "execution_count": null,
   "metadata": {},
   "outputs": [],
   "source": []
  }
 ],
 "metadata": {
  "kernelspec": {
   "display_name": "Python 3",
   "language": "python",
   "name": "python3"
  },
  "language_info": {
   "codemirror_mode": {
    "name": "ipython",
    "version": 3
   },
   "file_extension": ".py",
   "mimetype": "text/x-python",
   "name": "python",
   "nbconvert_exporter": "python",
   "pygments_lexer": "ipython3",
   "version": "3.8.5"
  }
 },
 "nbformat": 4,
 "nbformat_minor": 4
}
