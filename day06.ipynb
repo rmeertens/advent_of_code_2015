{
 "cells": [
  {
   "cell_type": "code",
   "execution_count": 1,
   "metadata": {},
   "outputs": [],
   "source": [
    "import re\n",
    "instructions = [line.strip() for line in open('inputs/day06.txt')]"
   ]
  },
  {
   "cell_type": "code",
   "execution_count": 5,
   "metadata": {},
   "outputs": [
    {
     "name": "stdout",
     "output_type": "stream",
     "text": [
      "answer part 1: 377891.0\n"
     ]
    }
   ],
   "source": [
    "import numpy as np\n",
    "lights = np.zeros((1000,1000))\n",
    "for instruction in instructions: \n",
    "    xstart, ystart, xend, yend = list(map(int, re.findall('[0-9]+', instruction)))\n",
    "    if 'turn on' in instruction: \n",
    "        lights[xstart:xend+1, ystart:yend+1] = 1\n",
    "    elif 'turn off' in instruction: \n",
    "        lights[xstart:xend+1, ystart:yend+1] = 0\n",
    "    elif 'toggle' in instruction: \n",
    "        lights[xstart:xend+1, ystart:yend+1] +=1 \n",
    "        lights[xstart:xend+1, ystart:yend+1] %=2\n",
    "    else: \n",
    "        print('unknown')\n",
    "        \n",
    "print('answer part 1:', lights.sum())"
   ]
  },
  {
   "cell_type": "code",
   "execution_count": null,
   "metadata": {},
   "outputs": [],
   "source": []
  },
  {
   "cell_type": "code",
   "execution_count": 6,
   "metadata": {},
   "outputs": [
    {
     "name": "stdout",
     "output_type": "stream",
     "text": [
      "answer part 2: 14110788.0\n"
     ]
    }
   ],
   "source": [
    "import numpy as np\n",
    "lights = np.zeros((1000,1000))\n",
    "for instruction in instructions: \n",
    "    xstart, ystart, xend, yend = list(map(int, re.findall('[0-9]+', instruction)))\n",
    "    if 'turn on' in instruction: \n",
    "        lights[xstart:xend+1, ystart:yend+1] += 1\n",
    "    elif 'turn off' in instruction: \n",
    "        lights[xstart:xend+1, ystart:yend+1] -= 1\n",
    "        lights = np.clip(lights, 0, None)\n",
    "    elif 'toggle' in instruction: \n",
    "        lights[xstart:xend+1, ystart:yend+1] +=2\n",
    "    else: \n",
    "        print('unknown')\n",
    "print('answer part 2:', lights.sum())"
   ]
  },
  {
   "cell_type": "code",
   "execution_count": null,
   "metadata": {},
   "outputs": [],
   "source": []
  },
  {
   "cell_type": "code",
   "execution_count": null,
   "metadata": {},
   "outputs": [],
   "source": []
  }
 ],
 "metadata": {
  "kernelspec": {
   "display_name": "py39",
   "language": "python",
   "name": "py39"
  },
  "language_info": {
   "codemirror_mode": {
    "name": "ipython",
    "version": 3
   },
   "file_extension": ".py",
   "mimetype": "text/x-python",
   "name": "python",
   "nbconvert_exporter": "python",
   "pygments_lexer": "ipython3",
   "version": "3.9.1"
  }
 },
 "nbformat": 4,
 "nbformat_minor": 4
}
