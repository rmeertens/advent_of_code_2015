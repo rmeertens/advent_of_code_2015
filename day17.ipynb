{
 "cells": [
  {
   "cell_type": "code",
   "execution_count": 1,
   "metadata": {},
   "outputs": [
    {
     "name": "stdout",
     "output_type": "stream",
     "text": [
      "Part 1: 4372\n",
      "Part 2: 4\n"
     ]
    }
   ],
   "source": [
    "#containers = [20,15,10,5,5]\n",
    "containers = [int(x) for x in open('inputs/day17.txt')]\n",
    "\n",
    "def ways_to_fill(liters, remaining_containers, depth, maxdepth=8):\n",
    "    if depth >= maxdepth: \n",
    "        return 0\n",
    "    \n",
    "    total = 0\n",
    "    for index, possible in enumerate(remaining_containers): \n",
    "        remaining = liters - possible\n",
    "        if remaining == 0: \n",
    "            total += 1\n",
    "        elif remaining > 0: \n",
    "            total += ways_to_fill(remaining, remaining_containers[index+1:], depth+1, maxdepth)\n",
    "    return total \n",
    "\n",
    "#ways_to_fill(25, containers)\n",
    "print('Part 1:', ways_to_fill(150, containers, 0, maxdepth=1000))\n",
    "\n",
    "\n",
    "# For part 2 we just iterate till we find an answer\n",
    "for i in range(10):\n",
    "    number = ways_to_fill(150, containers, 0, maxdepth=i)\n",
    "    if number: \n",
    "        print('Part 2:', number)\n",
    "        break\n"
   ]
  },
  {
   "cell_type": "code",
   "execution_count": null,
   "metadata": {},
   "outputs": [],
   "source": []
  },
  {
   "cell_type": "code",
   "execution_count": null,
   "metadata": {},
   "outputs": [],
   "source": []
  }
 ],
 "metadata": {
  "kernelspec": {
   "display_name": "py39",
   "language": "python",
   "name": "py39"
  },
  "language_info": {
   "codemirror_mode": {
    "name": "ipython",
    "version": 3
   },
   "file_extension": ".py",
   "mimetype": "text/x-python",
   "name": "python",
   "nbconvert_exporter": "python",
   "pygments_lexer": "ipython3",
   "version": "3.9.1"
  }
 },
 "nbformat": 4,
 "nbformat_minor": 4
}
