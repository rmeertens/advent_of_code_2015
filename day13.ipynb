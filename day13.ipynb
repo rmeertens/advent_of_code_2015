{
 "cells": [
  {
   "cell_type": "code",
   "execution_count": 1,
   "metadata": {},
   "outputs": [],
   "source": [
    "import re\n",
    "from collections import defaultdict\n",
    "import itertools\n",
    "\n",
    "lines = [line.strip() for line in open('inputs/day13.txt')]"
   ]
  },
  {
   "cell_type": "code",
   "execution_count": 2,
   "metadata": {},
   "outputs": [],
   "source": [
    "def emptydict():\n",
    "    return defaultdict(int)\n",
    "\n",
    "happiness = defaultdict(emptydict)\n",
    "\n",
    "for line in lines:\n",
    "    groups = re.search(r'^(.*) would (.*) (.*) happiness units by sitting next to (.*)\\.$', line)\n",
    "    first, inc_dec, number, second = [groups.group(x) for x in range(1,5)]\n",
    "    if inc_dec == 'lose':\n",
    "        number = -1*int(number)\n",
    "    else:\n",
    "        number = int(number)\n",
    "        \n",
    "    happiness[first][second] = number\n",
    "\n",
    "people = list(happiness.keys())"
   ]
  },
  {
   "cell_type": "code",
   "execution_count": 3,
   "metadata": {},
   "outputs": [
    {
     "name": "stdout",
     "output_type": "stream",
     "text": [
      "Part 1 733\n"
     ]
    }
   ],
   "source": [
    "def evaluate_seating(seating):\n",
    "    total = 0\n",
    "    for i in range(len(seating)):\n",
    "        left_person = (i-1)%len(seating)\n",
    "        right_person = (i+1)%len(seating)\n",
    "        total += happiness[seating[i]][seating[right_person]]\n",
    "        total += happiness[seating[i]][seating[left_person]]\n",
    "    return total\n",
    "\n",
    "def get_best_seating():\n",
    "    best = 0\n",
    "    s = people\n",
    "    for seating in itertools.permutations(people):\n",
    "        score = evaluate_seating(seating)\n",
    "        if score > best: \n",
    "            best = score\n",
    "            s = seating\n",
    "    return best\n",
    "\n",
    "print(\"Part 1\", get_best_seating())"
   ]
  },
  {
   "cell_type": "code",
   "execution_count": 4,
   "metadata": {},
   "outputs": [
    {
     "name": "stdout",
     "output_type": "stream",
     "text": [
      "Part 2 725\n"
     ]
    }
   ],
   "source": [
    "for person in people: \n",
    "    happiness[\"Roland\"][person] = 0\n",
    "    happiness[person][\"Roland\"] = 0 # Wow... this is pretty depressing\n",
    "people.append(\"Roland\")\n",
    "\n",
    "print(\"Part 2\", get_best_seating())\n",
    "\n",
    "# Wow... the score went down more... That's even more depressing"
   ]
  }
 ],
 "metadata": {
  "kernelspec": {
   "display_name": "py39",
   "language": "python",
   "name": "py39"
  },
  "language_info": {
   "codemirror_mode": {
    "name": "ipython",
    "version": 3
   },
   "file_extension": ".py",
   "mimetype": "text/x-python",
   "name": "python",
   "nbconvert_exporter": "python",
   "pygments_lexer": "ipython3",
   "version": "3.9.1"
  }
 },
 "nbformat": 4,
 "nbformat_minor": 4
}
