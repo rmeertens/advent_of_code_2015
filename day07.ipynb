{
 "cells": [
  {
   "cell_type": "code",
   "execution_count": 1,
   "metadata": {},
   "outputs": [],
   "source": [
    "import numpy as np\n",
    "\n",
    "lines = [line.strip() for line in open('inputs/day07.txt')]"
   ]
  },
  {
   "cell_type": "code",
   "execution_count": 2,
   "metadata": {},
   "outputs": [],
   "source": [
    "def parse_inputs(is_part_b = False):\n",
    "    outputs = dict()\n",
    "    for i in range(1000):\n",
    "        for line in lines: \n",
    "            inp, outp = line.split(' -> ')\n",
    "            if inp.isnumeric():\n",
    "                outputs[outp] = np.uint16(inp)\n",
    "            elif \"AND\" in inp: \n",
    "                a, b = inp.split(\" AND \")\n",
    "                if a.isnumeric() and b in outputs:\n",
    "                        outputs[outp] = np.uint16(a) & outputs[b]\n",
    "                elif a in outputs and b in outputs: \n",
    "                    outputs[outp] = outputs[a] & outputs[b]\n",
    "            elif \"OR\" in inp:\n",
    "                a, b = inp.split(\" OR \")\n",
    "                if a in outputs and b in outputs: \n",
    "                    outputs[outp] = outputs[a] | outputs[b]\n",
    "\n",
    "            elif \"RSHIFT\" in inp:\n",
    "                a, b = inp.split(\" RSHIFT \")\n",
    "                if a in outputs : \n",
    "                    outputs[outp] = outputs[a] >> np.uint16(b)\n",
    "\n",
    "            elif \"LSHIFT\" in inp:\n",
    "                a, b = inp.split(\" LSHIFT \")\n",
    "                if a in outputs : \n",
    "                    outputs[outp] = outputs[a] << np.uint16(b)\n",
    "\n",
    "            elif \"NOT\" in inp:\n",
    "                a = inp[4:]\n",
    "                if a in outputs:\n",
    "                    outputs[outp] = ~outputs[a]\n",
    "            else: \n",
    "                if inp in outputs:\n",
    "                    outputs[outp] = outputs[inp]\n",
    "            if is_part_b:\n",
    "                outputs['b'] = np.uint16(3176)\n",
    "    return outputs"
   ]
  },
  {
   "cell_type": "code",
   "execution_count": 3,
   "metadata": {},
   "outputs": [
    {
     "name": "stdout",
     "output_type": "stream",
     "text": [
      "Part 1: 3176\n",
      "Part 2: 14710\n"
     ]
    }
   ],
   "source": [
    "o = parse_inputs()\n",
    "print('Part 1:',o['a'])\n",
    "o = parse_inputs(True)\n",
    "print('Part 2:',o['a'])\n"
   ]
  },
  {
   "cell_type": "code",
   "execution_count": null,
   "metadata": {},
   "outputs": [],
   "source": []
  },
  {
   "cell_type": "code",
   "execution_count": null,
   "metadata": {},
   "outputs": [],
   "source": []
  },
  {
   "cell_type": "code",
   "execution_count": null,
   "metadata": {},
   "outputs": [],
   "source": []
  }
 ],
 "metadata": {
  "kernelspec": {
   "display_name": "py39",
   "language": "python",
   "name": "py39"
  },
  "language_info": {
   "codemirror_mode": {
    "name": "ipython",
    "version": 3
   },
   "file_extension": ".py",
   "mimetype": "text/x-python",
   "name": "python",
   "nbconvert_exporter": "python",
   "pygments_lexer": "ipython3",
   "version": "3.9.1"
  }
 },
 "nbformat": 4,
 "nbformat_minor": 4
}
