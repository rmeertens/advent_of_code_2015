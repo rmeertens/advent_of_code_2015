{
 "cells": [
  {
   "cell_type": "code",
   "execution_count": 33,
   "metadata": {},
   "outputs": [
    {
     "name": "stdout",
     "output_type": "stream",
     "text": [
      "Part 1 cqjxxyzz\n",
      "Part 2 cqkaabcc\n"
     ]
    }
   ],
   "source": [
    "def increment(password):\n",
    "    password = list(password)\n",
    "    if ord(password[-1]) < ord('z'):\n",
    "        password[-1] = chr(ord(password[-1])+1)\n",
    "    else:\n",
    "        password = increment(password[:-1])\n",
    "        password += ['a']\n",
    "    return password\n",
    "\n",
    "def get_overlapping_pairs(password):\n",
    "    overlapping = set()\n",
    "    for i in range(len(password)-1):\n",
    "        if password[i] == password[i+1]:\n",
    "            overlapping.add(password[i])\n",
    "    return overlapping\n",
    "\n",
    "def has_increasing_straight(password):\n",
    "    for i in range(len(password)-2):\n",
    "        if ord(password[i+2]) - ord(password[i+1]) == 1 and ord(password[i+1]) - ord(password[i]) == 1:\n",
    "            return True\n",
    "    return False\n",
    "\n",
    "def is_acceptable_password(password):\n",
    "    # Requirement 1\n",
    "    if not has_increasing_straight(password):\n",
    "        return False\n",
    "    \n",
    "    # Requirement 2\n",
    "    for letter in password: \n",
    "        if letter in 'iol':\n",
    "            return False\n",
    "    \n",
    "    # Requirement 3\n",
    "    if len(get_overlapping_pairs(password)) < 2: \n",
    "        return False\n",
    "    \n",
    "    return True\n",
    "\n",
    "current_pass = list(\"cqjxjnds\")\n",
    "while True: \n",
    "    if is_acceptable_password(current_pass):\n",
    "        print(\"Part 1\", ''.join(current_pass))\n",
    "        break\n",
    "    current_pass = increment(current_pass)\n",
    "\n",
    "current_pass = increment(current_pass)    \n",
    "while True: \n",
    "    if is_acceptable_password(current_pass):\n",
    "        print(\"Part 2\", ''.join(current_pass))\n",
    "        break\n",
    "    current_pass = increment(current_pass)    "
   ]
  }
 ],
 "metadata": {
  "kernelspec": {
   "display_name": "py39",
   "language": "python",
   "name": "py39"
  },
  "language_info": {
   "codemirror_mode": {
    "name": "ipython",
    "version": 3
   },
   "file_extension": ".py",
   "mimetype": "text/x-python",
   "name": "python",
   "nbconvert_exporter": "python",
   "pygments_lexer": "ipython3",
   "version": "3.9.1"
  }
 },
 "nbformat": 4,
 "nbformat_minor": 4
}
