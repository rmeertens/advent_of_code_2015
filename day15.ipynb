{
 "cells": [
  {
   "cell_type": "code",
   "execution_count": 1,
   "metadata": {},
   "outputs": [],
   "source": [
    "import re"
   ]
  },
  {
   "cell_type": "code",
   "execution_count": 2,
   "metadata": {},
   "outputs": [],
   "source": [
    "lines = [line.strip() for line in open('inputs/day15.txt')]\n",
    "\n",
    "ingredients = dict()\n",
    "for line in lines: \n",
    "    # Get the information from the line\n",
    "    groups = re.search('^(.*): capacity (.*), durability (.*), flavor (.*), texture (.*), calories (.*)$', line)\n",
    "    name = groups.group(1)\n",
    "    value = [int(groups.group(x)) for x in range(2,7)]\n",
    "\n",
    "    # Append to my ingredient list\n",
    "    ingredients[name] = value"
   ]
  },
  {
   "cell_type": "code",
   "execution_count": 3,
   "metadata": {},
   "outputs": [
    {
     "name": "stdout",
     "output_type": "stream",
     "text": [
      "Part 1 18965440\n",
      "Part 2 15862900\n"
     ]
    }
   ],
   "source": [
    "\n",
    "def recurse_select_ingredients(index_to_select, spoons_so_far, ingredients_selected, part1=True): \n",
    "    if index_to_select == len(ingredients.keys()):\n",
    "        if sum(ingredients_selected) != 100: \n",
    "            return\n",
    "        \n",
    "        calories = 0\n",
    "        for ingredient_index in range(len(ingredients.keys())):\n",
    "            a = ingredients_selected[ingredient_index] \n",
    "            b = ingredients[list(ingredients.keys())[ingredient_index]][-1]\n",
    "            calories += a*b\n",
    "        if not part1 and calories != 500:\n",
    "            return\n",
    "        \n",
    "        multiplied_together = 1\n",
    "        for property_index in range(4):\n",
    "            tot = 0\n",
    "            for ingredient_index in range(len(ingredients.keys())):\n",
    "                tot += ingredients_selected[ingredient_index] * ingredients[list(ingredients.keys())[ingredient_index]][property_index]\n",
    "            tot = max(tot, 0)\n",
    "            multiplied_together *= tot\n",
    "        maxval[0] = max(maxval[0], multiplied_together)\n",
    "                                                \n",
    "    else:\n",
    "        possible_remaining = 100 - spoons_so_far\n",
    "        for i in range(possible_remaining+1):\n",
    "            new_ingredients = ingredients_selected + [i]\n",
    "            recurse_select_ingredients(index_to_select+1, spoons_so_far + i, new_ingredients, part1)\n",
    "\n",
    "maxval = [0]\n",
    "recurse_select_ingredients(0, 0, [], True)\n",
    "print(\"Part 1\", maxval[0])\n",
    "\n",
    "maxval = [0]\n",
    "recurse_select_ingredients(0, 0, [], False)\n",
    "print(\"Part 2\", maxval[0])"
   ]
  }
 ],
 "metadata": {
  "kernelspec": {
   "display_name": "py39",
   "language": "python",
   "name": "py39"
  },
  "language_info": {
   "codemirror_mode": {
    "name": "ipython",
    "version": 3
   },
   "file_extension": ".py",
   "mimetype": "text/x-python",
   "name": "python",
   "nbconvert_exporter": "python",
   "pygments_lexer": "ipython3",
   "version": "3.9.1"
  }
 },
 "nbformat": 4,
 "nbformat_minor": 4
}
