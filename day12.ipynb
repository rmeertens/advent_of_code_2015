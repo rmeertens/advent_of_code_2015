{
 "cells": [
  {
   "cell_type": "code",
   "execution_count": 1,
   "metadata": {},
   "outputs": [],
   "source": [
    "import json\n",
    "\n",
    "inputs = json.load(open('inputs/day12.txt'))"
   ]
  },
  {
   "cell_type": "code",
   "execution_count": 13,
   "metadata": {},
   "outputs": [
    {
     "name": "stdout",
     "output_type": "stream",
     "text": [
      "Part 1 111754\n"
     ]
    }
   ],
   "source": [
    "def count_all_numbers(json_object):\n",
    "    if isinstance(json_object, dict):\n",
    "        total = 0\n",
    "        for key in json_object.keys():\n",
    "            total += count_all_numbers(json_object[key])\n",
    "        return total\n",
    "    elif isinstance(json_object, list):\n",
    "        total = 0\n",
    "        for value in json_object: \n",
    "            total += count_all_numbers(value)\n",
    "        return total\n",
    "    else: \n",
    "        try:\n",
    "            return int(json_object)\n",
    "        except Exception as e: \n",
    "            return 0\n",
    "    return 0\n",
    "\n",
    "print('Part 1', count_all_numbers(inputs))"
   ]
  },
  {
   "cell_type": "code",
   "execution_count": 23,
   "metadata": {},
   "outputs": [
    {
     "name": "stdout",
     "output_type": "stream",
     "text": [
      "(6, False)\n",
      "(4, False)\n",
      "(0, False)\n",
      "(6, False)\n",
      "Part 2 (65402, False)\n"
     ]
    }
   ],
   "source": [
    "def count_all_numbers_not_red(json_object):\n",
    "    if isinstance(json_object, dict):\n",
    "        total = 0\n",
    "        any_red = False\n",
    "        for key in json_object.keys():\n",
    "            temp, has_red = count_all_numbers_not_red(json_object[key])\n",
    "            any_red = any_red or has_red\n",
    "            total += temp\n",
    "            \n",
    "        if any_red:\n",
    "            return 0, False\n",
    "        else:\n",
    "            return total, False\n",
    "    elif isinstance(json_object, list):\n",
    "        total = 0\n",
    "        for value in json_object: \n",
    "            temp, has_red = count_all_numbers_not_red(value)\n",
    "            total += temp\n",
    "        return total, False\n",
    "    else: \n",
    "        if json_object == 'red':\n",
    "            return 0, True\n",
    "        try:\n",
    "            return int(json_object), False\n",
    "        except Exception as e: \n",
    "            return 0, False\n",
    "    print('other, ', json_object)\n",
    "    return 0\n",
    "\n",
    "\n",
    "print(count_all_numbers_not_red(json.loads(\"[1,2,3]\")))\n",
    "print(count_all_numbers_not_red(json.loads('[1,{\"c\":\"red\",\"b\":2},3]')))\n",
    "print(count_all_numbers_not_red(json.loads('{\"d\":\"red\",\"e\":[1,2,3,4],\"f\":5}')))\n",
    "print(count_all_numbers_not_red(json.loads('[1,\"red\",5]')))\n",
    "print('Part 2', count_all_numbers_not_red(inputs))"
   ]
  },
  {
   "cell_type": "code",
   "execution_count": null,
   "metadata": {},
   "outputs": [],
   "source": [
    "# 38885 is too low"
   ]
  }
 ],
 "metadata": {
  "kernelspec": {
   "display_name": "py39",
   "language": "python",
   "name": "py39"
  },
  "language_info": {
   "codemirror_mode": {
    "name": "ipython",
    "version": 3
   },
   "file_extension": ".py",
   "mimetype": "text/x-python",
   "name": "python",
   "nbconvert_exporter": "python",
   "pygments_lexer": "ipython3",
   "version": "3.9.1"
  }
 },
 "nbformat": 4,
 "nbformat_minor": 4
}
