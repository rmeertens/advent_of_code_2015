{
 "cells": [
  {
   "cell_type": "code",
   "execution_count": 6,
   "metadata": {},
   "outputs": [],
   "source": [
    "import hashlib\n",
    "\n",
    "secret_key = 'bgvyzdsv'\n",
    "# secret_key = 'abcdef'"
   ]
  },
  {
   "cell_type": "code",
   "execution_count": 8,
   "metadata": {},
   "outputs": [
    {
     "name": "stdout",
     "output_type": "stream",
     "text": [
      "254575\n",
      "The hexadecimal equivalent of hash is : 000004b30d481662b9cb0c105f6549b2\n",
      "1038736\n",
      "The hexadecimal equivalent of hash is : 000000b1b64bf5eb55aad89986126953\n"
     ]
    }
   ],
   "source": [
    "def get_advent_coin(begin):\n",
    "    for index in range(10000000):\n",
    "\n",
    "        # initializing string\n",
    "        str2hash = secret_key + str(index)\n",
    "\n",
    "        # encoding GeeksforGeeks using encode()\n",
    "        # then sending to md5()\n",
    "        result = hashlib.md5(str2hash.encode())\n",
    "\n",
    "        if result.hexdigest().startswith(begin):\n",
    "            print(index)\n",
    "\n",
    "            # printing the equivalent hexadecimal value.\n",
    "            print(\"The hexadecimal equivalent of hash is : \", end =\"\")\n",
    "            print(result.hexdigest())\n",
    "            break\n",
    "get_advent_coin('00000')\n",
    "get_advent_coin('000000')"
   ]
  },
  {
   "cell_type": "code",
   "execution_count": null,
   "metadata": {},
   "outputs": [],
   "source": []
  }
 ],
 "metadata": {
  "kernelspec": {
   "display_name": "py39",
   "language": "python",
   "name": "py39"
  },
  "language_info": {
   "codemirror_mode": {
    "name": "ipython",
    "version": 3
   },
   "file_extension": ".py",
   "mimetype": "text/x-python",
   "name": "python",
   "nbconvert_exporter": "python",
   "pygments_lexer": "ipython3",
   "version": "3.9.1"
  }
 },
 "nbformat": 4,
 "nbformat_minor": 4
}
