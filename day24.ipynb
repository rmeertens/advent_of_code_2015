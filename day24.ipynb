{
 "cells": [
  {
   "cell_type": "code",
   "execution_count": 1,
   "metadata": {},
   "outputs": [
    {
     "name": "stdout",
     "output_type": "stream",
     "text": [
      "part 1 10439961859\n",
      "part 2 72050269\n"
     ]
    }
   ],
   "source": [
    "from itertools import permutations\n",
    "import math\n",
    "# \n",
    "weights = [int(line) for line in open('downloads/input_day24.txt')]\n",
    "# weights = [1,2,3,4,5,7,8,9,10,11]\n",
    "\n",
    "def yield_qe(size_first_group, num_groups):\n",
    "    weights.sort(reverse=True)\n",
    "    per_group = sum(weights) // num_groups\n",
    "    \n",
    "    for first_group in permutations(weights, size_first_group): \n",
    "        if sum(first_group) == per_group: \n",
    "            yield math.prod(first_group)\n",
    "\n",
    "            \n",
    "def find_quantum_entanglement(num_groups):             \n",
    "    for size_first_group in range(2,len(weights)-2):\n",
    "        possible_qes = list()\n",
    "        for qe in yield_qe(size_first_group, num_groups):\n",
    "            possible_qes.append(qe)\n",
    "            \n",
    "        if len(possible_qes) > 0: \n",
    "            possible_qes.sort()\n",
    "            return possible_qes[0]\n",
    "\n",
    "print('part 1', find_quantum_entanglement(3))\n",
    "print('part 2', find_quantum_entanglement(4))\n",
    "        "
   ]
  },
  {
   "cell_type": "code",
   "execution_count": null,
   "metadata": {},
   "outputs": [],
   "source": []
  }
 ],
 "metadata": {
  "kernelspec": {
   "display_name": "Python 3",
   "language": "python",
   "name": "python3"
  },
  "language_info": {
   "codemirror_mode": {
    "name": "ipython",
    "version": 3
   },
   "file_extension": ".py",
   "mimetype": "text/x-python",
   "name": "python",
   "nbconvert_exporter": "python",
   "pygments_lexer": "ipython3",
   "version": "3.8.5"
  }
 },
 "nbformat": 4,
 "nbformat_minor": 4
}
