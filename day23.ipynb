{
 "cells": [
  {
   "cell_type": "code",
   "execution_count": 12,
   "metadata": {},
   "outputs": [],
   "source": []
  },
  {
   "cell_type": "code",
   "execution_count": 44,
   "metadata": {},
   "outputs": [
    {
     "name": "stdout",
     "output_type": "stream",
     "text": [
      "Part 1 184\n",
      "Part 2 231\n"
     ]
    }
   ],
   "source": [
    "from collections import defaultdict\n",
    "\n",
    "instructions = [line.strip() for line in open('downloads/input_day23.txt')]\n",
    "\n",
    "\n",
    "\n",
    "def run_instructions(instructions, registers): \n",
    "    index = 0\n",
    "    while index < len(instructions): \n",
    "\n",
    "        instruction = instructions[index]\n",
    "    #     print(index, instruction, registers)\n",
    "\n",
    "        if instruction.startswith('hlf'):\n",
    "            registers[instruction[-1]] = registers[instruction[-1]]//2\n",
    "            index += 1\n",
    "        elif instruction.startswith('tpl'):\n",
    "            registers[instruction[-1]] = registers[instruction[-1]]*3\n",
    "            index += 1\n",
    "        elif instruction.startswith('inc'):\n",
    "            registers[instruction[-1]] += 1\n",
    "            index += 1        \n",
    "        elif instruction.startswith('jmp'):\n",
    "            index += int(instruction[4:])\n",
    "        elif instruction.startswith('jie'):\n",
    "            if registers[instruction[4]]%2 == 0:\n",
    "                index += int(instruction[6:])\n",
    "            else:\n",
    "                index += 1\n",
    "        elif instruction.startswith('jio'):\n",
    "    #         print('jio', instruction[4])\n",
    "            if registers[instruction[4]] == 1:\n",
    "                index += int(instruction[6:])\n",
    "            else:\n",
    "                index += 1\n",
    "        else:\n",
    "            print('exception')\n",
    "    \n",
    "registers = defaultdict(int)\n",
    "\n",
    "run_instructions(instructions, registers)        \n",
    "print('Part 1', registers['b'])\n",
    "\n",
    "registers = defaultdict(int)\n",
    "registers['a'] = 1\n",
    "run_instructions(instructions, registers)\n",
    "print('Part 2', registers['b'])"
   ]
  },
  {
   "cell_type": "code",
   "execution_count": 37,
   "metadata": {},
   "outputs": [
    {
     "data": {
      "text/plain": [
       "defaultdict(int, {'a': 1, 'b': 231})"
      ]
     },
     "execution_count": 37,
     "metadata": {},
     "output_type": "execute_result"
    }
   ],
   "source": [
    "registers"
   ]
  },
  {
   "cell_type": "code",
   "execution_count": 33,
   "metadata": {},
   "outputs": [
    {
     "data": {
      "text/plain": [
       "defaultdict(int, {'a': 1, 'b': 184})"
      ]
     },
     "execution_count": 33,
     "metadata": {},
     "output_type": "execute_result"
    }
   ],
   "source": []
  },
  {
   "cell_type": "code",
   "execution_count": null,
   "metadata": {},
   "outputs": [],
   "source": []
  }
 ],
 "metadata": {
  "kernelspec": {
   "display_name": "Python 3",
   "language": "python",
   "name": "python3"
  },
  "language_info": {
   "codemirror_mode": {
    "name": "ipython",
    "version": 3
   },
   "file_extension": ".py",
   "mimetype": "text/x-python",
   "name": "python",
   "nbconvert_exporter": "python",
   "pygments_lexer": "ipython3",
   "version": "3.8.5"
  }
 },
 "nbformat": 4,
 "nbformat_minor": 4
}
