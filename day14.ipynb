{
 "cells": [
  {
   "cell_type": "code",
   "execution_count": 1,
   "metadata": {},
   "outputs": [],
   "source": [
    "import re\n",
    "from collections import defaultdict \n",
    "\n",
    "\n",
    "lines = [line.strip() for line in open('inputs/day14.txt')]\n",
    "num_rounds = 2503"
   ]
  },
  {
   "cell_type": "code",
   "execution_count": 2,
   "metadata": {},
   "outputs": [],
   "source": [
    "deer = dict()\n",
    "\n",
    "for line in lines: \n",
    "    groups = re.search(r'^(.*) can fly (.*) km/s for (.*) seconds, but then must rest for (.*) seconds.$', line)\n",
    "    name, velocity, run_sec, rest_sec = [groups.group(x) for x in range(1,5)]\n",
    "    deer[name] = (int(velocity), int(run_sec), int(rest_sec))"
   ]
  },
  {
   "cell_type": "code",
   "execution_count": 3,
   "metadata": {},
   "outputs": [
    {
     "name": "stdout",
     "output_type": "stream",
     "text": [
      "Part 1 2655\n"
     ]
    }
   ],
   "source": [
    "def get_distance_traveled(seconds, velocity, run_sec, rest_sec):\n",
    "    iterations = seconds // (run_sec+rest_sec)\n",
    "    leftover = seconds % (run_sec+rest_sec)\n",
    "    leftover = min(leftover, run_sec)\n",
    "    return (run_sec*iterations+leftover)*velocity\n",
    "\n",
    "best = 0\n",
    "for animal in deer.keys():\n",
    "    distance = get_distance_traveled(num_rounds, *deer[animal])\n",
    "    best = max(distance, best)\n",
    "print(\"Part 1\", best)"
   ]
  },
  {
   "cell_type": "code",
   "execution_count": 4,
   "metadata": {},
   "outputs": [
    {
     "name": "stdout",
     "output_type": "stream",
     "text": [
      "Part 2 1059\n"
     ]
    }
   ],
   "source": [
    "points = defaultdict(int)\n",
    "for i in range(1,num_rounds+1):\n",
    "    round_points = dict()\n",
    "    for animal in deer.keys():\n",
    "        distance = get_distance_traveled(i, *deer[animal])\n",
    "        round_points[animal] = distance\n",
    "    top = max(round_points.values())\n",
    "    \n",
    "    for animal in deer.keys():\n",
    "        if round_points[animal] == top:\n",
    "            points[animal] += 1\n",
    "            \n",
    "print(\"Part 2\", max(points.values()))"
   ]
  }
 ],
 "metadata": {
  "kernelspec": {
   "display_name": "py39",
   "language": "python",
   "name": "py39"
  },
  "language_info": {
   "codemirror_mode": {
    "name": "ipython",
    "version": 3
   },
   "file_extension": ".py",
   "mimetype": "text/x-python",
   "name": "python",
   "nbconvert_exporter": "python",
   "pygments_lexer": "ipython3",
   "version": "3.9.1"
  }
 },
 "nbformat": 4,
 "nbformat_minor": 4
}
