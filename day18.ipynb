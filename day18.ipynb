{
 "cells": [
  {
   "cell_type": "code",
   "execution_count": 33,
   "metadata": {},
   "outputs": [
    {
     "name": "stdout",
     "output_type": "stream",
     "text": [
      "part 1 1061.0\n",
      "part 2 1006.0\n"
     ]
    }
   ],
   "source": [
    "import numpy as np\n",
    "grid = [x.strip() for x in open('inputs/day18.txt')]\n",
    "\n",
    "\n",
    "newgrid = list()\n",
    "for line in grid: \n",
    "    newgrid.append([x=='#' for x in line])\n",
    "\n",
    "newgrid = np.array(newgrid)\n",
    "initialgrid = np.copy(newgrid)\n",
    "\n",
    "def get_num_neighbours(i,j, grid):\n",
    "    gy, gx = grid.shape\n",
    "    num_neighbours = 0\n",
    "    for y in range(-1,2):\n",
    "        for x in range(-1,2):\n",
    "            dy = i+y\n",
    "            dx = j+x\n",
    "            if dy >= 0 and dy < gy and dx >= 0 and dx < gx:\n",
    "                if y == 0 and x == 0: \n",
    "                    continue\n",
    "                if grid[dy,dx]:\n",
    "                    num_neighbours += 1\n",
    "    return num_neighbours\n",
    "\n",
    "def update(grid):\n",
    "\n",
    "    nextiter = np.zeros(grid.shape)\n",
    "    gy, gx = grid.shape\n",
    "    for y in range(gy): \n",
    "        for x in range(gx): \n",
    "            neighbours = get_num_neighbours(y,x,grid) \n",
    "            if grid[y,x]:\n",
    "                nextiter[y,x] = neighbours in [2,3]\n",
    "            else:\n",
    "                nextiter[y,x] = neighbours in [3]\n",
    "    return nextiter\n",
    "\n",
    "for i in range(100):\n",
    "    newgrid = update(newgrid)\n",
    "\n",
    "print(\"part 1\",newgrid.sum())\n",
    "\n",
    "newgrid = initialgrid\n",
    "for i in range(100):\n",
    "    newgrid = update(newgrid)\n",
    "    newgrid[0,0] = 1\n",
    "    newgrid[0,-1] = 1\n",
    "    newgrid[-1,0] = 1\n",
    "    newgrid[-1,-1] = 1\n",
    "\n",
    "print(\"part 2\",newgrid.sum())    "
   ]
  }
 ],
 "metadata": {
  "kernelspec": {
   "display_name": "py39",
   "language": "python",
   "name": "py39"
  },
  "language_info": {
   "codemirror_mode": {
    "name": "ipython",
    "version": 3
   },
   "file_extension": ".py",
   "mimetype": "text/x-python",
   "name": "python",
   "nbconvert_exporter": "python",
   "pygments_lexer": "ipython3",
   "version": "3.9.1"
  }
 },
 "nbformat": 4,
 "nbformat_minor": 4
}
