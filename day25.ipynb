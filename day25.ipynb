{
 "cells": [
  {
   "cell_type": "code",
   "execution_count": 53,
   "metadata": {},
   "outputs": [
    {
     "name": "stdout",
     "output_type": "stream",
     "text": [
      "19980801\n"
     ]
    }
   ],
   "source": [
    "import sys\n",
    "sys.setrecursionlimit(2947*3029)\n",
    "\n",
    "def get_index_at(row, column): \n",
    "    if column == 1: \n",
    "        if row == 1: \n",
    "            return 1\n",
    "        else: \n",
    "            return get_index_at(row-1, column) + (row-1)\n",
    "    else: \n",
    "        return get_index_at(row, column-1) + column + (row-1)\n",
    "\n",
    "def get_value_at_index(index): \n",
    "    value = 20151125\n",
    "    value *= pow(252533, index-1, mod=33554393)\n",
    "    value %= 33554393\n",
    "    \n",
    "    return value\n",
    "\n",
    "index = get_index_at(2947, 3029)\n",
    "print(get_value_at_index(index))\n"
   ]
  }
 ],
 "metadata": {
  "kernelspec": {
   "display_name": "Python 3",
   "language": "python",
   "name": "python3"
  },
  "language_info": {
   "codemirror_mode": {
    "name": "ipython",
    "version": 3
   },
   "file_extension": ".py",
   "mimetype": "text/x-python",
   "name": "python",
   "nbconvert_exporter": "python",
   "pygments_lexer": "ipython3",
   "version": "3.8.5"
  }
 },
 "nbformat": 4,
 "nbformat_minor": 4
}
