{
 "cells": [
  {
   "cell_type": "code",
   "execution_count": 1,
   "metadata": {},
   "outputs": [],
   "source": [
    "lines = [x.strip() for x in open('inputs/day05.txt')]"
   ]
  },
  {
   "cell_type": "code",
   "execution_count": 2,
   "metadata": {},
   "outputs": [
    {
     "name": "stdout",
     "output_type": "stream",
     "text": [
      "part 1: 258\n"
     ]
    }
   ],
   "source": [
    "def filter_vowels(string):\n",
    "    return sum([string.count(letter) for letter in 'aeiou']) >= 3\n",
    "\n",
    "def filter_twice(string):\n",
    "    for i1 in range(len(string)-1):\n",
    "        if string[i1] == string[i1+1]:\n",
    "            return True\n",
    "    return False\n",
    "\n",
    "def filter_forbidden(string):\n",
    "    return not any([forbidden in string for forbidden in ['ab', 'cd', 'pq', 'xy']])\n",
    "\n",
    "nice = filter(filter_forbidden, filter(filter_twice, filter(filter_vowels,lines)))\n",
    "#nice = filter(filter_vowels,lines)\n",
    "print('part 1:', len([x for x in nice]))"
   ]
  },
  {
   "cell_type": "code",
   "execution_count": 3,
   "metadata": {},
   "outputs": [
    {
     "name": "stdout",
     "output_type": "stream",
     "text": [
      "part 2: 53\n"
     ]
    }
   ],
   "source": [
    "def filter_pairs(string):\n",
    "    for i in range(len(string)-3):\n",
    "#         print(string[i:i+2], '->', string[i+2:])\n",
    "        if string[i:i+2] in string[i+2:]:\n",
    "            return True\n",
    "    return False\n",
    "\n",
    "def filter_one_between(string):\n",
    "    for i in range(len(string)-2):\n",
    "        if string[i] == string[i+2]:\n",
    "            return True\n",
    "    return False\n",
    "\n",
    "nice = filter(filter_pairs, filter(filter_one_between,lines))\n",
    "print('part 2:', len([x for x in nice]))"
   ]
  }
 ],
 "metadata": {
  "kernelspec": {
   "display_name": "py39",
   "language": "python",
   "name": "py39"
  },
  "language_info": {
   "codemirror_mode": {
    "name": "ipython",
    "version": 3
   },
   "file_extension": ".py",
   "mimetype": "text/x-python",
   "name": "python",
   "nbconvert_exporter": "python",
   "pygments_lexer": "ipython3",
   "version": "3.9.1"
  }
 },
 "nbformat": 4,
 "nbformat_minor": 4
}
