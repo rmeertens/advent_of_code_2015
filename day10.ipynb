{
 "cells": [
  {
   "cell_type": "code",
   "execution_count": 21,
   "metadata": {},
   "outputs": [
    {
     "name": "stdout",
     "output_type": "stream",
     "text": [
      "Part 1 329356\n",
      "Part 2 4666278\n"
     ]
    }
   ],
   "source": [
    "def look_say(number):\n",
    "    last_split = 0\n",
    "    new = \"\"\n",
    "    for i in range(1, len(number)):\n",
    "        if number[i] != number[i-1]:\n",
    "            new += str(i-last_split) + number[i-1]\n",
    "            last_split = i\n",
    "    new += str(len(number)-last_split) + number[-1] \n",
    "    return new\n",
    "\n",
    "        \n",
    "start = \"3113322113\"\n",
    "for i in range(40):\n",
    "    start = look_say(start)\n",
    "print('Part 1', len(start))\n",
    "\n",
    "start = \"3113322113\"\n",
    "for i in range(50):\n",
    "    start = look_say(start)\n",
    "print('Part 2', len(start))"
   ]
  }
 ],
 "metadata": {
  "kernelspec": {
   "display_name": "py39",
   "language": "python",
   "name": "py39"
  },
  "language_info": {
   "codemirror_mode": {
    "name": "ipython",
    "version": 3
   },
   "file_extension": ".py",
   "mimetype": "text/x-python",
   "name": "python",
   "nbconvert_exporter": "python",
   "pygments_lexer": "ipython3",
   "version": "3.9.1"
  }
 },
 "nbformat": 4,
 "nbformat_minor": 4
}
